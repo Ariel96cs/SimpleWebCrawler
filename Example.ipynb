{
 "cells": [
  {
   "cell_type": "markdown",
   "metadata": {},
   "source": [
    "## PreProcessing"
   ]
  },
  {
   "cell_type": "code",
   "execution_count": 1,
   "metadata": {},
   "outputs": [],
   "source": [
    "import json\n",
    "import analizer as ana\n",
    "import numpy as np\n",
    "from tqdm import tqdm\n",
    "import random"
   ]
  },
  {
   "cell_type": "code",
   "execution_count": 2,
   "metadata": {},
   "outputs": [],
   "source": [
    "vocab = set()\n",
    "docs = set()\n",
    "frecuency = dict()\n",
    "tuples = []\n",
    "with open('myspider_items.jl',encoding='utf') as itemsScrapped:\n",
    "    for line in itemsScrapped.readlines():\n",
    "        item = json.loads(line)\n",
    "        if item['url'] in docs:\n",
    "            print(item['url'])\n",
    "            continue\n",
    "        tuples.append((item['url'],item['body']))\n",
    "        docs.add(item['url'])\n",
    "        for word in item['body']:\n",
    "            if word in vocab: \n",
    "                frecuency[word]+=1\n",
    "                continue\n",
    "            vocab.add(word)\n",
    "            frecuency[word] = 1\n",
    "            "
   ]
  },
  {
   "cell_type": "code",
   "execution_count": 3,
   "metadata": {},
   "outputs": [],
   "source": [
    "vocab_frecuency = list(frecuency.items())\n",
    "vocab_frecuency.sort(key=lambda elem: elem[1])\n",
    "vocab_frecuency.reverse()"
   ]
  },
  {
   "cell_type": "code",
   "execution_count": 4,
   "metadata": {},
   "outputs": [
    {
     "data": {
      "text/plain": [
       "('also', 22981)"
      ]
     },
     "execution_count": 4,
     "metadata": {},
     "output_type": "execute_result"
    }
   ],
   "source": [
    "vocab_frecuency[0]"
   ]
  },
  {
   "cell_type": "code",
   "execution_count": 5,
   "metadata": {},
   "outputs": [],
   "source": [
    "def write_vocab(vocab:list):\n",
    "    with open('vocab.txt','w',encoding='utf-8') as vocabfile:\n",
    "        for w,_ in vocab:\n",
    "            vocabfile.write(w + '\\n')\n"
   ]
  },
  {
   "cell_type": "code",
   "execution_count": 6,
   "metadata": {},
   "outputs": [],
   "source": [
    "def write_docs_names(docs):\n",
    "    with open('docs.txt','w',encoding='utf-8') as docsfile:\n",
    "        for doc in docs:\n",
    "            docsfile.write(doc + '\\n')\n",
    "\n",
    "        "
   ]
  },
  {
   "cell_type": "code",
   "execution_count": 7,
   "metadata": {},
   "outputs": [],
   "source": [
    "write_docs_names(docs)"
   ]
  },
  {
   "cell_type": "code",
   "execution_count": 8,
   "metadata": {},
   "outputs": [],
   "source": [
    "write_vocab(vocab_frecuency)"
   ]
  },
  {
   "cell_type": "code",
   "execution_count": 9,
   "metadata": {},
   "outputs": [],
   "source": [
    "del frecuency"
   ]
  },
  {
   "cell_type": "code",
   "execution_count": 10,
   "metadata": {},
   "outputs": [],
   "source": [
    "document_names = list(docs)\n",
    "vocabulary = list(vocab)"
   ]
  },
  {
   "cell_type": "code",
   "execution_count": 12,
   "metadata": {},
   "outputs": [
    {
     "name": "stderr",
     "output_type": "stream",
     "text": [
      "100%|██████████| 10644/10644 [00:05<00:00, 2020.13it/s]\n"
     ]
    }
   ],
   "source": [
    "td_matrix = ana.create_term_document_matrix(tuples,document_names,vocabulary)"
   ]
  },
  {
   "cell_type": "code",
   "execution_count": 13,
   "metadata": {},
   "outputs": [
    {
     "name": "stderr",
     "output_type": "stream",
     "text": [
      "  0%|          | 1/10644 [00:00<20:31,  8.64it/s]"
     ]
    },
    {
     "name": "stdout",
     "output_type": "stream",
     "text": [
      "\n",
      "The 10 most similar plays to \"https://en.wikipedia.org/wiki/Donald_Trump\" using compute_cosine_similarity are:\n"
     ]
    },
    {
     "name": "stderr",
     "output_type": "stream",
     "text": [
      "100%|██████████| 10644/10644 [08:27<00:00, 20.99it/s]\n",
      "  0%|          | 3/10644 [00:00<08:26, 21.01it/s]"
     ]
    },
    {
     "name": "stdout",
     "output_type": "stream",
     "text": [
      "1: https://en.wikipedia.org/wiki/Ileana_Ros-Lehtinen\n",
      "2: https://en.wikipedia.org/wiki/History_of_Haiti\n",
      "3: https://en.wikipedia.org/w/index.php?title=History_of_Haiti&printable=yes\n",
      "4: https://en.wikipedia.org/wiki/Dirty_War\n",
      "5: https://en.wikipedia.org/wiki/2013_Egyptian_coup_d%27%C3%A9tat\n",
      "6: https://en.wikipedia.org/wiki/Steve_Knight_(politician)\n",
      "7: https://en.wikipedia.org/wiki/United_States_House_Committee_on_Foreign_Affairs\n",
      "8: https://en.wikipedia.org/wiki/American_Imperialism\n",
      "9: https://en.wikipedia.org/w/index.php?title=American_Imperialism&printable=yes\n",
      "10: https://en.wikipedia.org/wiki/Impeachment_of_Bill_Clinton\n",
      "\n",
      "The 10 most similar plays to \"https://en.wikipedia.org/wiki/Donald_Trump\" using compute_jaccard_similarity are:\n"
     ]
    },
    {
     "name": "stderr",
     "output_type": "stream",
     "text": [
      "100%|██████████| 10644/10644 [08:25<00:00, 21.06it/s]\n",
      "  0%|          | 3/10644 [00:00<08:08, 21.77it/s]"
     ]
    },
    {
     "name": "stdout",
     "output_type": "stream",
     "text": [
      "1: https://en.wikipedia.org/w/index.php?title=Franklin_D._Roosevelt&curid=10979&diff=922811538&oldid=922580449\n",
      "2: https://en.wikipedia.org/wiki/Mexico\n",
      "3: https://en.wikipedia.org/wiki/History_of_Haiti\n",
      "4: https://en.wikipedia.org/w/index.php?title=History_of_Haiti&printable=yes\n",
      "5: https://en.wikipedia.org/w/index.php?title=Theodore_Roosevelt&curid=30535&diff=922818785&oldid=922811931\n",
      "6: https://en.wikipedia.org/wiki/Dirty_War\n",
      "7: https://en.wikipedia.org/w/index.php?title=Montana&oldid=920470632\n",
      "8: https://en.wikipedia.org/w/index.php?title=Montana&diff=920208135&oldid=920207177\n",
      "9: https://en.wikipedia.org/w/index.php?title=Montana&printable=yes\n",
      "10: https://en.wikipedia.org/w/index.php?title=Montana&stableid=921307467\n",
      "\n",
      "The 10 most similar plays to \"https://en.wikipedia.org/wiki/Donald_Trump\" using compute_dice_similarity are:\n"
     ]
    },
    {
     "name": "stderr",
     "output_type": "stream",
     "text": [
      "100%|██████████| 10644/10644 [08:49<00:00, 20.10it/s]"
     ]
    },
    {
     "name": "stdout",
     "output_type": "stream",
     "text": [
      "1: https://en.wikipedia.org/w/index.php?title=Franklin_D._Roosevelt&curid=10979&diff=922811538&oldid=922580449\n",
      "2: https://en.wikipedia.org/wiki/Mexico\n",
      "3: https://en.wikipedia.org/wiki/History_of_Haiti\n",
      "4: https://en.wikipedia.org/w/index.php?title=History_of_Haiti&printable=yes\n",
      "5: https://en.wikipedia.org/w/index.php?title=Theodore_Roosevelt&curid=30535&diff=922818785&oldid=922811931\n",
      "6: https://en.wikipedia.org/wiki/Dirty_War\n",
      "7: https://en.wikipedia.org/w/index.php?title=Montana&oldid=920470632\n",
      "8: https://en.wikipedia.org/w/index.php?title=Montana&diff=920208135&oldid=920207177\n",
      "9: https://en.wikipedia.org/w/index.php?title=Montana&printable=yes\n",
      "10: https://en.wikipedia.org/w/index.php?title=Montana&stableid=921307467\n"
     ]
    },
    {
     "name": "stderr",
     "output_type": "stream",
     "text": [
      "\n"
     ]
    }
   ],
   "source": [
    "index = document_names.index('https://en.wikipedia.org/wiki/Donald_Trump')\n",
    "for sim_fn in ana.similarity_fns:\n",
    "    print('\\nThe 10 most similar plays to \"%s\" using %s are:' % (document_names[index], sim_fn.__qualname__))\n",
    "    ranks = ana.rank_plays(index, td_matrix, sim_fn)\n",
    "    for idx in range(0, 10):\n",
    "        doc_id = ranks[idx]\n",
    "        print('%d: %s' % (idx+1, document_names[doc_id]))"
   ]
  },
  {
   "cell_type": "markdown",
   "metadata": {},
   "source": [
    "## Principals functions"
   ]
  },
  {
   "cell_type": "code",
   "execution_count": 10,
   "metadata": {},
   "outputs": [],
   "source": [
    "import json\n",
    "import analizer as ana\n",
    "import numpy as np\n",
    "from tqdm import tqdm\n",
    "import random"
   ]
  },
  {
   "cell_type": "code",
   "execution_count": 2,
   "metadata": {},
   "outputs": [],
   "source": [
    "# para cargar el vocabulario y los nombres de las paginas\n",
    "# y le quitamos el ultimo caracter q es el \\n\n",
    "def load_item_from_file(file_path):\n",
    "    result = []\n",
    "    with open(file_path,encoding='utf-8') as item_file:\n",
    "        result = item_file.readlines()\n",
    "    return [w[:-1]for w in result]"
   ]
  },
  {
   "cell_type": "code",
   "execution_count": 3,
   "metadata": {},
   "outputs": [],
   "source": [
    "# cargamos las tuplas de (url,lista de palabras)\n",
    "def load_tuples_from_file(tuples_path):\n",
    "    tuples = []\n",
    "    with open(tuples_path,encoding='utf-8') as itemsScrapped:\n",
    "        for line in itemsScrapped.readlines():\n",
    "            item = json.loads(line)\n",
    "            tuples.append((item['url'],item['body']))\n",
    "    return tuples"
   ]
  },
  {
   "cell_type": "code",
   "execution_count": 9,
   "metadata": {},
   "outputs": [],
   "source": [
    "#llamamos a scrapear con\n",
    "#'scrapy parse --pipelines --spider=singlePageSpider {url}'\n",
    "from subprocess import call\n",
    "def call_for_a_page(url):\n",
    "    return call(['scrapy','parse','--pipelines','--spider=singlePageSpider',url],timeout=60)\n",
    "\n",
    "def get_similar_pages(url,document_names,td_matrix,n):\n",
    "    index = document_names.index(url)\n",
    "    for sim_fn in ana.similarity_fns:\n",
    "        print(f'\\nThe {n} most similar plays to {document_names[index]} using {sim_fn.__qualname__} are:')\n",
    "        ranks = ana.rank_plays(index, td_matrix, sim_fn)\n",
    "        for idx in range(0, n):\n",
    "            doc_id = ranks[idx]\n",
    "            print('%d: %s' % (idx+1, document_names[doc_id]))"
   ]
  },
  {
   "cell_type": "code",
   "execution_count": 5,
   "metadata": {},
   "outputs": [],
   "source": [
    "# escogemos como pagina a comparar\n",
    "page_to_compare = 'https://en.wikipedia.org/wiki/Cuba'\n",
    "# mandamos a scrapear la pagina\n",
    "retcall = call_for_a_page(page_to_compare)"
   ]
  },
  {
   "cell_type": "code",
   "execution_count": 6,
   "metadata": {},
   "outputs": [],
   "source": [
    "# cargamos los parametros \n",
    "vocab = load_item_from_file('vocab.txt')\n",
    "docs = load_item_from_file('docs.txt')\n",
    "tuples = load_tuples_from_file('myspider_items.jl')"
   ]
  },
  {
   "cell_type": "code",
   "execution_count": 7,
   "metadata": {
    "scrolled": false
   },
   "outputs": [
    {
     "name": "stderr",
     "output_type": "stream",
     "text": [
      "100%|██████████| 10645/10645 [00:05<00:00, 2073.35it/s]\n",
      "  0%|          | 2/10645 [00:00<12:08, 14.62it/s]"
     ]
    },
    {
     "name": "stdout",
     "output_type": "stream",
     "text": [
      "\n",
      "The 10 most similar plays to \"https://en.wikipedia.org/wiki/Cuba\" using compute_cosine_similarity are:\n"
     ]
    },
    {
     "name": "stderr",
     "output_type": "stream",
     "text": [
      "100%|██████████| 10645/10645 [08:43<00:00, 20.33it/s]\n",
      "  0%|          | 3/10645 [00:00<08:23, 21.12it/s]"
     ]
    },
    {
     "name": "stdout",
     "output_type": "stream",
     "text": [
      "1: https://en.wikipedia.org/wiki/Elections_in_Cuba\n",
      "2: https://en.wikipedia.org/wiki/American_Imperialism\n",
      "3: https://en.wikipedia.org/w/index.php?title=American_Imperialism&printable=yes\n",
      "4: https://en.wikipedia.org/wiki/History_of_Haiti\n",
      "5: https://en.wikipedia.org/w/index.php?title=History_of_Haiti&printable=yes\n",
      "6: https://en.wikipedia.org/wiki/Mexico\n",
      "7: https://en.wikipedia.org/wiki/Micronesia,_Federated_States_of\n",
      "8: https://en.wikipedia.org/w/index.php?title=Federated_States_of_Micronesia&printable=yes\n",
      "9: https://en.wikipedia.org/wiki/CAR\n",
      "10: https://en.wikipedia.org/wiki/Cold_War_(1962%E2%80%931979)\n",
      "\n",
      "The 10 most similar plays to \"https://en.wikipedia.org/wiki/Cuba\" using compute_jaccard_similarity are:\n"
     ]
    },
    {
     "name": "stderr",
     "output_type": "stream",
     "text": [
      "100%|██████████| 10645/10645 [08:56<00:00, 19.85it/s]\n",
      "  0%|          | 2/10645 [00:00<09:29, 18.69it/s]"
     ]
    },
    {
     "name": "stdout",
     "output_type": "stream",
     "text": [
      "1: https://en.wikipedia.org/wiki/History_of_Haiti\n",
      "2: https://en.wikipedia.org/w/index.php?title=History_of_Haiti&printable=yes\n",
      "3: https://en.wikipedia.org/wiki/Elections_in_Cuba\n",
      "4: https://en.wikipedia.org/wiki/American_Imperialism\n",
      "5: https://en.wikipedia.org/w/index.php?title=American_Imperialism&printable=yes\n",
      "6: https://en.wikipedia.org/wiki/Mexico\n",
      "7: https://en.wikipedia.org/wiki/Dirty_War\n",
      "8: https://en.wikipedia.org/wiki/The_Netherlands\n",
      "9: https://en.wikipedia.org/w/index.php?title=Netherlands&printable=yes\n",
      "10: https://en.wikipedia.org/wiki/Europe\n",
      "\n",
      "The 10 most similar plays to \"https://en.wikipedia.org/wiki/Cuba\" using compute_dice_similarity are:\n"
     ]
    },
    {
     "name": "stderr",
     "output_type": "stream",
     "text": [
      "100%|██████████| 10645/10645 [08:54<00:00, 19.92it/s]"
     ]
    },
    {
     "name": "stdout",
     "output_type": "stream",
     "text": [
      "1: https://en.wikipedia.org/wiki/History_of_Haiti\n",
      "2: https://en.wikipedia.org/w/index.php?title=History_of_Haiti&printable=yes\n",
      "3: https://en.wikipedia.org/wiki/Elections_in_Cuba\n",
      "4: https://en.wikipedia.org/wiki/American_Imperialism\n",
      "5: https://en.wikipedia.org/w/index.php?title=American_Imperialism&printable=yes\n",
      "6: https://en.wikipedia.org/wiki/Mexico\n",
      "7: https://en.wikipedia.org/wiki/Dirty_War\n",
      "8: https://en.wikipedia.org/wiki/The_Netherlands\n",
      "9: https://en.wikipedia.org/w/index.php?title=Netherlands&printable=yes\n",
      "10: https://en.wikipedia.org/wiki/Europe\n"
     ]
    },
    {
     "name": "stderr",
     "output_type": "stream",
     "text": [
      "\n"
     ]
    }
   ],
   "source": [
    "# cargamos lo scrapeado de la pagina q se quiere comparar\n",
    "single_tuple = load_tuples_from_file('singlePageSpider_items.jl')\n",
    "if not single_tuple: print(f\"No se pudo scrapear la pagina {page_to_compare}\")\n",
    "else:\n",
    "    tuples+=single_tuple\n",
    "    docs.append(page_to_compare)\n",
    "    td_matrix = ana.create_term_document_matrix(tuples,docs,vocab)\n",
    "    get_similar_pages(page_to_compare,docs,td_matrix,10)\n",
    "    "
   ]
  }
 ],
 "metadata": {
  "kernelspec": {
   "display_name": "Python 3",
   "language": "python",
   "name": "python3"
  },
  "language_info": {
   "codemirror_mode": {
    "name": "ipython",
    "version": 3
   },
   "file_extension": ".py",
   "mimetype": "text/x-python",
   "name": "python",
   "nbconvert_exporter": "python",
   "pygments_lexer": "ipython3",
   "version": "3.6.5"
  }
 },
 "nbformat": 4,
 "nbformat_minor": 2
}
